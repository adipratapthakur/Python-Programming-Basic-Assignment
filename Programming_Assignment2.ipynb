{
 "cells": [
  {
   "cell_type": "code",
   "execution_count": 6,
   "id": "49fba511",
   "metadata": {},
   "outputs": [
    {
     "name": "stdout",
     "output_type": "stream",
     "text": [
      "Enter the value in Kms: 12.2\n",
      "\n",
      "12.2 Kms is equal to 7.580726 miles.\n"
     ]
    }
   ],
   "source": [
    "#1.\tWrite a Python program to convert kilometers to miles?\n",
    "\n",
    "def kms_to_miles():\n",
    "    '''\n",
    "    this function will convert distance from kilometers to miles.\n",
    "    '''\n",
    "    try:\n",
    "        kms = float(input(\"Enter the value in Kms: \"))\n",
    "        miles = round(kms*0.621371,6)\n",
    "        print(\"\\n{} Kms is equal to {} miles.\".format(kms,miles))\n",
    "    except Exception as e:\n",
    "        print(\"\\nSome exception occurred: \",e)\n",
    "        \n",
    "kms_to_miles()"
   ]
  },
  {
   "cell_type": "code",
   "execution_count": 7,
   "id": "539d6054",
   "metadata": {},
   "outputs": [
    {
     "name": "stdout",
     "output_type": "stream",
     "text": [
      "Enter the temperature in celsius: 30.5\n",
      "\n",
      "30.5 celsius temperature is equal to 86.9 fahrenheit.\n"
     ]
    }
   ],
   "source": [
    "#2.\tWrite a Python program to convert Celsius to Fahrenheit?\n",
    "\n",
    "def cel_to_fah():\n",
    "    '''\n",
    "    this function will convert the temperature from celsius to fahrenheit.\n",
    "    '''\n",
    "    try:\n",
    "        cels = float(input(\"Enter the temperature in celsius: \"))\n",
    "        fah = round((cels*9/5)+32,3)\n",
    "        print(\"\\n{} celsius temperature is equal to {} fahrenheit.\".format(cels,fah))\n",
    "    except Exception as e:\n",
    "        print(\"\\nSome exception occurred: \",e)\n",
    "        \n",
    "cel_to_fah()\n",
    "        "
   ]
  },
  {
   "cell_type": "code",
   "execution_count": 9,
   "id": "8d098649",
   "metadata": {},
   "outputs": [
    {
     "name": "stdout",
     "output_type": "stream",
     "text": [
      "Enter the year: 2022\n",
      "\n",
      "                                  2022\n",
      "\n",
      "      January                   February                   March\n",
      "Mo Tu We Th Fr Sa Su      Mo Tu We Th Fr Sa Su      Mo Tu We Th Fr Sa Su\n",
      "                1  2          1  2  3  4  5  6          1  2  3  4  5  6\n",
      " 3  4  5  6  7  8  9       7  8  9 10 11 12 13       7  8  9 10 11 12 13\n",
      "10 11 12 13 14 15 16      14 15 16 17 18 19 20      14 15 16 17 18 19 20\n",
      "17 18 19 20 21 22 23      21 22 23 24 25 26 27      21 22 23 24 25 26 27\n",
      "24 25 26 27 28 29 30      28                        28 29 30 31\n",
      "31\n",
      "\n",
      "       April                      May                       June\n",
      "Mo Tu We Th Fr Sa Su      Mo Tu We Th Fr Sa Su      Mo Tu We Th Fr Sa Su\n",
      "             1  2  3                         1             1  2  3  4  5\n",
      " 4  5  6  7  8  9 10       2  3  4  5  6  7  8       6  7  8  9 10 11 12\n",
      "11 12 13 14 15 16 17       9 10 11 12 13 14 15      13 14 15 16 17 18 19\n",
      "18 19 20 21 22 23 24      16 17 18 19 20 21 22      20 21 22 23 24 25 26\n",
      "25 26 27 28 29 30         23 24 25 26 27 28 29      27 28 29 30\n",
      "                          30 31\n",
      "\n",
      "        July                     August                  September\n",
      "Mo Tu We Th Fr Sa Su      Mo Tu We Th Fr Sa Su      Mo Tu We Th Fr Sa Su\n",
      "             1  2  3       1  2  3  4  5  6  7                1  2  3  4\n",
      " 4  5  6  7  8  9 10       8  9 10 11 12 13 14       5  6  7  8  9 10 11\n",
      "11 12 13 14 15 16 17      15 16 17 18 19 20 21      12 13 14 15 16 17 18\n",
      "18 19 20 21 22 23 24      22 23 24 25 26 27 28      19 20 21 22 23 24 25\n",
      "25 26 27 28 29 30 31      29 30 31                  26 27 28 29 30\n",
      "\n",
      "      October                   November                  December\n",
      "Mo Tu We Th Fr Sa Su      Mo Tu We Th Fr Sa Su      Mo Tu We Th Fr Sa Su\n",
      "                1  2          1  2  3  4  5  6                1  2  3  4\n",
      " 3  4  5  6  7  8  9       7  8  9 10 11 12 13       5  6  7  8  9 10 11\n",
      "10 11 12 13 14 15 16      14 15 16 17 18 19 20      12 13 14 15 16 17 18\n",
      "17 18 19 20 21 22 23      21 22 23 24 25 26 27      19 20 21 22 23 24 25\n",
      "24 25 26 27 28 29 30      28 29 30                  26 27 28 29 30 31\n",
      "31\n",
      "\n"
     ]
    }
   ],
   "source": [
    "#3.\tWrite a Python program to display calendar?\n",
    "\n",
    "import calendar\n",
    "\n",
    "def cal_of_month():\n",
    "    '''\n",
    "    this function will print the calendar of the given year.\n",
    "    '''\n",
    "    try:\n",
    "        year = int(input(\"Enter the year: \"))\n",
    "        \n",
    "        print(\"\\n\"+calendar.calendar(year))\n",
    "        \n",
    "    except Exception as e:\n",
    "        print(\"\\nSome exception occurred: \",e)\n",
    "        \n",
    "cal_of_month()"
   ]
  },
  {
   "cell_type": "code",
   "execution_count": 10,
   "id": "1bd04b18",
   "metadata": {},
   "outputs": [
    {
     "name": "stdout",
     "output_type": "stream",
     "text": [
      "Enter a: 1\n",
      "Enter b: 5\n",
      "Enter c: 6\n",
      "\n",
      "The solutions of quadratic eqn 1x² + 5x + 6 = 0 are (-3+0j) and (-2+0j).\n"
     ]
    }
   ],
   "source": [
    "#4.\tWrite a Python program to solve quadratic equation?\n",
    "\n",
    "import cmath\n",
    "def solve_quadratic_eqn():\n",
    "    '''\n",
    "    this function will find the solutions of a quadratic equation.\n",
    "    '''\n",
    "    try:\n",
    "        a = int(input(\"Enter a: \"))\n",
    "        b = int(input(\"Enter b: \"))\n",
    "        c = int(input(\"Enter c: \"))\n",
    "        \n",
    "        if a==0:\n",
    "            print(\"\\nThis is not a quadratic eqn.\")\n",
    "        else:\n",
    "            d = (b**2)-(4*a*c)\n",
    "            \n",
    "            sol1 = (-b-cmath.sqrt(d))/(2*a)\n",
    "            sol2 = (-b+cmath.sqrt(d))/(2*a)\n",
    "            \n",
    "            print(\"\\nThe solutions of quadratic eqn {}x\\u00b2 + {}x + {} = 0 are {} and {}.\".format(a,b,c,sol1,sol2))\n",
    "    except Exception as e:\n",
    "        print(\"\\nSome exception occurred: \",e)\n",
    "        \n",
    "solve_quadratic_eqn()\n",
    "            "
   ]
  },
  {
   "cell_type": "code",
   "execution_count": 11,
   "id": "95c33723",
   "metadata": {
    "scrolled": true
   },
   "outputs": [
    {
     "name": "stdout",
     "output_type": "stream",
     "text": [
      "Enter a: 20\n",
      "Enter b: 15\n",
      "\n",
      "Before swapping\n",
      "a=20 and b=15\n",
      "\n",
      "After swapping\n",
      "a=15 and b=20\n"
     ]
    }
   ],
   "source": [
    "#5.\tWrite a Python program to swap two variables without temp variable?\n",
    "\n",
    "def swap_without_temp():\n",
    "    '''\n",
    "    this function will swap two variables without using any third variable.\n",
    "    '''\n",
    "    try:\n",
    "        a = int(input(\"Enter a: \"))\n",
    "        b = int(input(\"Enter b: \"))\n",
    "        \n",
    "        print(\"\\nBefore swapping\")\n",
    "        print(\"a={} and b={}\".format(a,b))\n",
    "        \n",
    "        a = a+b\n",
    "        b = a-b\n",
    "        a = a-b\n",
    "        \n",
    "        print(\"\\nAfter swapping\")\n",
    "        print(\"a={} and b={}\".format(a,b))\n",
    "        \n",
    "    except Exception as e:\n",
    "        print(\"\\nSome exception occurred: \",e)\n",
    "        \n",
    "swap_without_temp()\n",
    "        "
   ]
  },
  {
   "cell_type": "code",
   "execution_count": null,
   "id": "fa3ae49b",
   "metadata": {},
   "outputs": [],
   "source": []
  }
 ],
 "metadata": {
  "kernelspec": {
   "display_name": "Python 3",
   "language": "python",
   "name": "python3"
  },
  "language_info": {
   "codemirror_mode": {
    "name": "ipython",
    "version": 3
   },
   "file_extension": ".py",
   "mimetype": "text/x-python",
   "name": "python",
   "nbconvert_exporter": "python",
   "pygments_lexer": "ipython3",
   "version": "3.8.8"
  }
 },
 "nbformat": 4,
 "nbformat_minor": 5
}
