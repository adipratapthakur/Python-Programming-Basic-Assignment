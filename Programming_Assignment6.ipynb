{
 "cells": [
  {
   "cell_type": "code",
   "execution_count": 1,
   "id": "23eee574",
   "metadata": {},
   "outputs": [
    {
     "name": "stdout",
     "output_type": "stream",
     "text": [
      "Enter how many terms you want to print of Fibonacci Sequence: 8\n",
      "\n",
      "Fibonacci Sequence: \n",
      "0\n",
      "1\n",
      "1\n",
      "2\n",
      "3\n",
      "5\n",
      "8\n",
      "13\n"
     ]
    }
   ],
   "source": [
    "#1. Write a Python Program to Display Fibonacci Sequence Using Recursion?\n",
    "\n",
    "def fib_recursion(num):\n",
    "    \"\"\"This function will calculate fibonacci sequence using recursion\"\"\"\n",
    "    try:\n",
    "        if num==0:\n",
    "            return 0\n",
    "        elif num==1:\n",
    "            return 1\n",
    "        else:\n",
    "            return (fib_recursion(num-1) + fib_recursion(num-2))\n",
    "    except Exception as e:\n",
    "        print(\"\\nSome Exception has occurred: \",e)\n",
    "\n",
    "\n",
    "try:\n",
    "    n_terms = int(input(\"Enter how many terms you want to print of Fibonacci Sequence: \"))\n",
    "    if n_terms <= 0:\n",
    "        print(\"\\nPlease enter a positive integer\")\n",
    "    else:\n",
    "        print(\"\\nFibonacci Sequence: \")\n",
    "        for i in range(n_terms):\n",
    "            print(fib_recursion(i))\n",
    "except Exception as e:\n",
    "    print(\"\\nSome Exception has occurred: \",e)\n",
    "    "
   ]
  },
  {
   "cell_type": "code",
   "execution_count": 2,
   "id": "6a587c89",
   "metadata": {},
   "outputs": [
    {
     "name": "stdout",
     "output_type": "stream",
     "text": [
      "Enter the number to calculate factorial: 5\n",
      "\n",
      "Factorial of 5 is 120\n"
     ]
    }
   ],
   "source": [
    "#2.\tWrite a Python Program to Find Factorial of Number Using Recursion?\n",
    "\n",
    "def factorial_recursion(number):\n",
    "    \"\"\"This function will calculate the factorial of a given number using recursion.\"\"\"\n",
    "    try:\n",
    "        if number==0:\n",
    "            return 1\n",
    "        elif number==1:\n",
    "            return 1\n",
    "        else:\n",
    "            return (number*factorial_recursion(number-1))\n",
    "    except Exception as e:\n",
    "        print(\"\\nSome exception has occurred: \",e)\n",
    "\n",
    "\n",
    "try:\n",
    "    number = int(input(\"Enter the number to calculate factorial: \"))\n",
    "    if number<0:\n",
    "        print(\"\\nPlease enter a positive integer.\")\n",
    "    else:\n",
    "        print(f\"\\nFactorial of {number} is {factorial_recursion(number)}\")\n",
    "except Exception as e:\n",
    "    print(\"\\nSome exception has occurred: \",e)"
   ]
  },
  {
   "cell_type": "code",
   "execution_count": 3,
   "id": "4078e3ec",
   "metadata": {},
   "outputs": [
    {
     "name": "stdout",
     "output_type": "stream",
     "text": [
      "Enter your weight in kg: 85\n",
      "Enter your height in cm: 158.496\n",
      "\n",
      "The BMI is 33.83625685726058. You are suffering from obesity.\n"
     ]
    }
   ],
   "source": [
    "#3.\tWrite a Python Program to calculate your Body Mass Index?\n",
    "\n",
    "import sys\n",
    "\n",
    "def bmi_calculator(weight,height):\n",
    "    \"\"\"This function will return the body mass index.\"\"\"\n",
    "    try:\n",
    "        if weight==0 or height==0:\n",
    "            return 0\n",
    "        else:\n",
    "            bmi = weight / (height/100)**2\n",
    "            return bmi\n",
    "    except Exception as e:\n",
    "        print(\"\\nSome exception has occurred: \",e)\n",
    "\n",
    "try:\n",
    "    weight = float(input(\"Enter your weight in kg: \"))\n",
    "    height = float(input(\"Enter your height in cm: \"))\n",
    "    \n",
    "    bmi = bmi_calculator(weight,height)\n",
    "\n",
    "    if bmi==0:\n",
    "        print(f\"\\nWeight or Height can't be 0.\")\n",
    "    elif bmi<=18.4:\n",
    "        print(f\"\\nThe BMI is {bmi}. You are underweight.\")\n",
    "    elif bmi<=24.9:\n",
    "        print(f\"\\nThe BMI is {bmi}. You are healthy.\")\n",
    "    elif bmi<=29.9:\n",
    "        print(f\"\\nThe BMI is {bmi}. You are overweight.\")\n",
    "    else:\n",
    "        print(f\"\\nThe BMI is {bmi}. You are suffering from obesity.\")\n",
    "except Exception as e:\n",
    "    print(\"\\nSome exception has occurred: \",e)"
   ]
  },
  {
   "cell_type": "code",
   "execution_count": 4,
   "id": "1b95cdae",
   "metadata": {},
   "outputs": [
    {
     "name": "stdout",
     "output_type": "stream",
     "text": [
      "Enter the number: 2.5\n",
      "\n",
      "log(2.5) : 0.9162907318741551\n"
     ]
    }
   ],
   "source": [
    "#4.\tWrite a Python Program to calculate the natural logarithm of any number?\n",
    "\n",
    "import math\n",
    "\n",
    "def natural_log(number):\n",
    "    \"\"\"This function will return the natural logarithm of a number\"\"\"\n",
    "    return math.log(number)\n",
    "\n",
    "try:\n",
    "    number = float(input(\"Enter the number: \"))\n",
    "    if number<=0:\n",
    "        print(\"\\nPlease enter a positive integer.\")\n",
    "    else:\n",
    "        print(f\"\\nlog({number}) : {natural_log(number)}\")\n",
    "except Exception as e:\n",
    "    print(\"\\nSome exception has occurred: \",e)"
   ]
  },
  {
   "cell_type": "code",
   "execution_count": 5,
   "id": "6de0e714",
   "metadata": {},
   "outputs": [
    {
     "name": "stdout",
     "output_type": "stream",
     "text": [
      "Enter the number to calculate sum of cubes of first natural numbers: 4\n",
      "\n",
      "Sum of cubes of first 4 natural numbers: 100\n"
     ]
    }
   ],
   "source": [
    "#5.\tWrite a Python Program for cube sum of first n natural numbers?\n",
    "\n",
    "\n",
    "def sum_of_cubes(number):\n",
    "    \"\"\"This function will return sum of cubes of first n natural numbers\"\"\"\n",
    "    try:\n",
    "        result = (number*(number+1)/2) ** 2\n",
    "        return int(result)\n",
    "    except Exception as e:\n",
    "        print(\"\\nSome exception has occurred: \",e)\n",
    "\n",
    "\n",
    "try:\n",
    "    number = int(input(\"Enter the number to calculate sum of cubes of first natural numbers: \"))\n",
    "    if number<=0:\n",
    "        print(\"\\nPlease enter a positive integer.\")\n",
    "    else:\n",
    "        print(f\"\\nSum of cubes of first {number} natural numbers: {sum_of_cubes(number)}\")\n",
    "except Exception as e:\n",
    "    print(\"\\nSome exception has occurred: \",e)"
   ]
  },
  {
   "cell_type": "code",
   "execution_count": null,
   "id": "2a58937b",
   "metadata": {},
   "outputs": [],
   "source": []
  }
 ],
 "metadata": {
  "kernelspec": {
   "display_name": "Python 3",
   "language": "python",
   "name": "python3"
  },
  "language_info": {
   "codemirror_mode": {
    "name": "ipython",
    "version": 3
   },
   "file_extension": ".py",
   "mimetype": "text/x-python",
   "name": "python",
   "nbconvert_exporter": "python",
   "pygments_lexer": "ipython3",
   "version": "3.8.8"
  }
 },
 "nbformat": 4,
 "nbformat_minor": 5
}
