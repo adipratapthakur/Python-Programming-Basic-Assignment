{
 "cells": [
  {
   "cell_type": "code",
   "execution_count": 1,
   "id": "9aa84c60",
   "metadata": {},
   "outputs": [
    {
     "name": "stdout",
     "output_type": "stream",
     "text": [
      "Enter the size of array: 5\n",
      "Enter 1 element: 10\n",
      "Enter 2 element: 20\n",
      "Enter 3 element: 30\n",
      "Enter 4 element: 40\n",
      "Enter 5 element: 50\n",
      "\n",
      "Sum of all elements of [10, 20, 30, 40, 50] : 150\n"
     ]
    }
   ],
   "source": [
    "#1.\tWrite a Python Program to find sum of array?\n",
    "\n",
    "def sum_of_elements_array(arr):\n",
    "    \"This function will return the sum of all elements of an integer array\"\n",
    "    try:\n",
    "        result = 0\n",
    "        for i in arr:\n",
    "            result += i\n",
    "        return result\n",
    "    except Exception as e:\n",
    "        print(\"\\nSome exception has occurred: \",e)\n",
    "\n",
    "\n",
    "try:\n",
    "    arr = []\n",
    "    size = int(input(\"Enter the size of array: \"))\n",
    "    \n",
    "    if size<=0:\n",
    "        print(\"\\nPlease enter a positive integer\")\n",
    "    else:\n",
    "        for i in range(size):\n",
    "            arr.append(int(input(f\"Enter {i+1} element: \")))\n",
    "\n",
    "        print(f\"\\nSum of all elements of {arr} : {sum_of_elements_array(arr)}\")\n",
    "except Exception as e:\n",
    "    print(\"\\nSome exception has occurred: \",e)"
   ]
  },
  {
   "cell_type": "code",
   "execution_count": 2,
   "id": "9de961c9",
   "metadata": {},
   "outputs": [
    {
     "name": "stdout",
     "output_type": "stream",
     "text": [
      "Enter the size of array: 5\n",
      "Enter 1 element: 10\n",
      "Enter 2 element: 20\n",
      "Enter 3 element: 30\n",
      "Enter 4 element: 40\n",
      "Enter 5 element: 50\n",
      "\n",
      "Largest elements in [10, 20, 30, 40, 50] : 50\n"
     ]
    }
   ],
   "source": [
    "#2.\tWrite a Python Program to find largest element in an array?\n",
    "\n",
    "def largest_in_array(arr):\n",
    "    \"\"\"This function will return the largest element in an integer array\"\"\"\n",
    "    try:\n",
    "        largest = arr[0]\n",
    "        for i in arr:\n",
    "            if i>largest:\n",
    "                largest = i\n",
    "        return largest\n",
    "    except Exception as e:\n",
    "        print(\"\\nSome exception has occurred: \",e)\n",
    "    \n",
    "\n",
    "try:\n",
    "    arr = []\n",
    "    size = int(input(\"Enter the size of array: \"))\n",
    "    \n",
    "    if size<=0:\n",
    "        print(\"\\nPlease enter a positive integer\")\n",
    "    else:\n",
    "        for i in range(size):\n",
    "            arr.append(int(input(f\"Enter {i+1} element: \")))\n",
    "\n",
    "        print(f\"\\nLargest elements in {arr} : {largest_in_array(arr)}\")\n",
    "except Exception as e:\n",
    "    print(\"\\nSome exception has occurred: \",e)"
   ]
  },
  {
   "cell_type": "code",
   "execution_count": 3,
   "id": "d9de2f98",
   "metadata": {},
   "outputs": [
    {
     "name": "stdout",
     "output_type": "stream",
     "text": [
      "Enter the size of array: 7\n",
      "Enter 1 element: 10\n",
      "Enter 2 element: 20\n",
      "Enter 3 element: 30\n",
      "Enter 4 element: 40\n",
      "Enter 5 element: 50\n",
      "Enter 6 element: 60\n",
      "Enter 7 element: 70\n",
      "\n",
      "How many elements you want to rotate from the array: 5\n",
      "\n",
      "Array Before Rotation\n",
      "\n",
      "[10, 20, 30, 40, 50, 60, 70]\n",
      "\n",
      "Array After Rotation\n",
      "\n",
      "[60, 70, 10, 20, 30, 40, 50]\n"
     ]
    }
   ],
   "source": [
    "#3.\tWrite a Python Program for array rotation?\n",
    "\n",
    "def rotate_array(arr,size,rotate_digit):\n",
    "    \"\"\"This function will return the rotated array by n elements\"\"\"\n",
    "    try:\n",
    "        temp = []\n",
    "        for i in range(rotate_digit):\n",
    "            temp.append(arr[i])\n",
    "        j = 0\n",
    "        for i in range(rotate_digit,size):\n",
    "            arr[j] = arr[i] \n",
    "            j = j+1\n",
    "        arr[:] = arr[:j] + temp\n",
    "        return arr\n",
    "    except Exception as e:\n",
    "        print(\"\\nSome exception has occurred: \",e)\n",
    "\n",
    "\n",
    "try:\n",
    "    arr = []\n",
    "    size = int(input(\"Enter the size of array: \"))\n",
    "    \n",
    "    if size<=0:\n",
    "        print(\"\\nPlease enter a positive integer\")\n",
    "    else:\n",
    "        for i in range(size):\n",
    "            arr.append(int(input(f\"Enter {i+1} element: \")))\n",
    "\n",
    "        rotate_digit = int(input(\"\\nHow many elements you want to rotate from the array: \"))\n",
    "        if rotate_digit<= 0 or rotate_digit>size:\n",
    "            print(f\"\\nPlease Enter number in range (1-{size})\")\n",
    "        else:\n",
    "            print(\"\\nArray Before Rotation\\n\")\n",
    "            print(arr)\n",
    "            print(\"\\nArray After Rotation\\n\")\n",
    "            print(rotate_array(arr,size,rotate_digit))\n",
    "        \n",
    "except Exception as e:\n",
    "    print(\"\\nSome exception has occurred: \",e)"
   ]
  },
  {
   "cell_type": "code",
   "execution_count": 4,
   "id": "3606297a",
   "metadata": {},
   "outputs": [
    {
     "name": "stdout",
     "output_type": "stream",
     "text": [
      "Enter the size of array: 3\n",
      "Enter 1 element: 3\n",
      "Enter 2 element: 1\n",
      "Enter 3 element: 2\n",
      "\n",
      "From which index you want to split the array: 1\n",
      "\n",
      "Original Array\n",
      "\n",
      "[3, 1, 2]\n",
      "\n",
      "Array after adding first splitted part to last\n",
      "\n",
      "[1, 2, 3]\n"
     ]
    }
   ],
   "source": [
    "#4.\tWrite a Python Program to Split the array and add the first part to the end?\n",
    "\n",
    "def split_array(arr,size,position):\n",
    "    \"\"\"This function will return the rotated array by n elements\"\"\"\n",
    "    try:\n",
    "        temp = []\n",
    "        for i in range(position):\n",
    "            temp.append(arr[i])\n",
    "        j = 0\n",
    "        for i in range(position,size):\n",
    "            arr[j] = arr[i] \n",
    "            j = j+1\n",
    "        arr[:] = arr[:j] + temp\n",
    "        return arr\n",
    "    except Exception as e:\n",
    "        print(\"\\nSome exception has occurred: \",e)\n",
    "\n",
    "\n",
    "try:\n",
    "    arr = []\n",
    "    size = int(input(\"Enter the size of array: \"))\n",
    "    \n",
    "    if size<=0:\n",
    "        print(\"\\nPlease enter a positive integer\")\n",
    "    else:\n",
    "        for i in range(size):\n",
    "            arr.append(int(input(f\"Enter {i+1} element: \")))\n",
    "\n",
    "        position = int(input(\"\\nFrom which index you want to split the array: \"))\n",
    "        if position<= 0 or position>size:\n",
    "            print(f\"\\nPlease Enter number in range (1-{size})\")\n",
    "        else:\n",
    "            print(\"\\nOriginal Array\\n\")\n",
    "            print(arr)\n",
    "            print(\"\\nArray after adding first splitted part to last\\n\")\n",
    "            print(rotate_array(arr,size,position))\n",
    "        \n",
    "except Exception as e:\n",
    "    print(\"\\nSome exception has occurred: \",e)"
   ]
  },
  {
   "cell_type": "code",
   "execution_count": 5,
   "id": "b980f3e0",
   "metadata": {},
   "outputs": [
    {
     "name": "stdout",
     "output_type": "stream",
     "text": [
      "Enter the size of array: 5\n",
      "Enter 1 element: 2\n",
      "Enter 2 element: 4\n",
      "Enter 3 element: 6\n",
      "Enter 4 element: 6\n",
      "Enter 5 element: 7\n",
      "\n",
      "Array [2, 4, 6, 6, 7] is monotonic\n"
     ]
    }
   ],
   "source": [
    "#5.\tWrite a Python Program to check if given array is Monotonic?\n",
    "\n",
    "def is_monotonic(arr):\n",
    "    return (all(arr[i]<=arr[i+1] for i in range(len(arr)-1)) or \n",
    "            all(arr[i]>=arr[i+1] for i in range(len(arr)-1)))\n",
    "\n",
    "\n",
    "try:\n",
    "    arr = []\n",
    "    size = int(input(\"Enter the size of array: \"))\n",
    "    \n",
    "    if size<=0:\n",
    "        print(\"\\nPlease enter a positive integer.\")\n",
    "    else:\n",
    "        for i in range(size):\n",
    "            arr.append(int(input(f\"Enter {i+1} element: \")))\n",
    "\n",
    "        result = is_monotonic(arr)\n",
    "        if result:\n",
    "            print(f\"\\nArray {arr} is monotonic\")\n",
    "        else:\n",
    "            print(f\"\\nArray {arr} is not monotonic\")\n",
    "except Exception as e:\n",
    "    print(\"\\nSome exception has occurred: \",e)"
   ]
  },
  {
   "cell_type": "code",
   "execution_count": null,
   "id": "2beb8472",
   "metadata": {},
   "outputs": [],
   "source": []
  }
 ],
 "metadata": {
  "kernelspec": {
   "display_name": "Python 3",
   "language": "python",
   "name": "python3"
  },
  "language_info": {
   "codemirror_mode": {
    "name": "ipython",
    "version": 3
   },
   "file_extension": ".py",
   "mimetype": "text/x-python",
   "name": "python",
   "nbconvert_exporter": "python",
   "pygments_lexer": "ipython3",
   "version": "3.8.8"
  }
 },
 "nbformat": 4,
 "nbformat_minor": 5
}
