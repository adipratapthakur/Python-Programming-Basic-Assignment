{
 "cells": [
  {
   "cell_type": "code",
   "execution_count": 1,
   "id": "3d66ed8f",
   "metadata": {},
   "outputs": [
    {
     "name": "stdout",
     "output_type": "stream",
     "text": [
      "Hello Python\n"
     ]
    }
   ],
   "source": [
    "#1.\tWrite a Python program to print \"Hello Python\"?\n",
    "def greet():\n",
    "    print(\"Hello Python\")\n",
    "\n",
    "greet()"
   ]
  },
  {
   "cell_type": "code",
   "execution_count": 25,
   "id": "08eef5f4",
   "metadata": {},
   "outputs": [
    {
     "name": "stdout",
     "output_type": "stream",
     "text": [
      "Enter 1st number: 10\n",
      "Enter 2nd number: 20\n",
      "\n",
      "Addition of 10 and 20 is 30\n",
      "Division of 10 and 20 is 0.5\n"
     ]
    }
   ],
   "source": [
    "#2.\tWrite a Python program to do arithmetical operations addition and division.?\n",
    "def calculate():\n",
    "    try:\n",
    "        a = int(input(\"Enter 1st number: \"))\n",
    "        b = int(input(\"Enter 2nd number: \"))\n",
    "        #addition = a+b\n",
    "        #division = a/b\n",
    "        print(\"\\nAddition of {} and {} is {}\".format(a,b,a+b))\n",
    "        print(\"Division of {} and {} is {}\".format(a,b,a/b))\n",
    "    except Exception as e:\n",
    "        print(\"\\nSome exception occurred: \",e)\n",
    "\n",
    "calculate()"
   ]
  },
  {
   "cell_type": "code",
   "execution_count": 26,
   "id": "987257c1",
   "metadata": {},
   "outputs": [
    {
     "name": "stdout",
     "output_type": "stream",
     "text": [
      "Enter first side: 10\n",
      "Enter second side: 5\n",
      "Enter third side: 7\n",
      "\n",
      "The area of triangle is 16.25\n"
     ]
    }
   ],
   "source": [
    "#3.\tWrite a Python program to find the area of a triangle?\n",
    "def triangleArea():\n",
    "    try:\n",
    "        a = float(input(\"Enter first side: \"))\n",
    "        b = float(input(\"Enter second side: \"))\n",
    "        c = float(input(\"Enter third side: \"))\n",
    "        \n",
    "        s = (a+b+c)/2\n",
    "        \n",
    "        area = (s*(s-a)*(s-b)*(s-c)) ** 0.5\n",
    "        \n",
    "        print(\"\\nThe area of triangle is %.2f\"%area)\n",
    "        \n",
    "    except Exception as e:\n",
    "        print(\"\\nSome exception occurred: \",e)\n",
    "\n",
    "triangleArea()"
   ]
  },
  {
   "cell_type": "code",
   "execution_count": 24,
   "id": "46e16c7c",
   "metadata": {
    "scrolled": true
   },
   "outputs": [
    {
     "name": "stdout",
     "output_type": "stream",
     "text": [
      "Enter a: 10\n",
      "Enter b: 20\n",
      "\n",
      "Before Swapping\n",
      "a=10 and b=20\n",
      "\n",
      "After Swapping\n",
      "a=20 and b=10\n"
     ]
    }
   ],
   "source": [
    "#4.\tWrite a Python program to swap two variables?\n",
    "def swap():\n",
    "    try:\n",
    "        a = int(input(\"Enter a: \"))\n",
    "        b = int(input(\"Enter b: \"))\n",
    "        \n",
    "        print(\"\\nBefore Swapping\")\n",
    "        print(\"a={} and b={}\".format(a,b))\n",
    "        \n",
    "        a,b = b,a\n",
    "        \n",
    "        print(\"\\nAfter Swapping\")\n",
    "        print(\"a={} and b={}\".format(a,b))\n",
    "        \n",
    "    except Exception as e:\n",
    "        print(\"\\nSome exception occurred: \",e)\n",
    "\n",
    "swap()\n",
    "        "
   ]
  },
  {
   "cell_type": "code",
   "execution_count": 38,
   "id": "9311f34a",
   "metadata": {},
   "outputs": [
    {
     "name": "stdout",
     "output_type": "stream",
     "text": [
      "Enter Lower bound to generate a number: 10\n",
      "Enter Upper bound to generate a number: 50\n",
      "\n",
      "Random number 42 is generated between 10 and 50 including both the end points\n"
     ]
    }
   ],
   "source": [
    "#5.\tWrite a Python program to generate a random number?\n",
    "import random\n",
    "\n",
    "def genRandom():\n",
    "    try:\n",
    "        lb = int(input(\"Enter Lower bound to generate a number: \"))\n",
    "        ub = int(input(\"Enter Upper bound to generate a number: \"))\n",
    "        \n",
    "        random_number = random.randint(lb,ub)\n",
    "        \n",
    "        print(\"\\nRandom number {} is generated between {} and {} including both the end points\".format(random_number,lb,ub))\n",
    "        \n",
    "    except Exception as e:\n",
    "        print(\"\\nSome exception occurred: \",e)\n",
    "\n",
    "genRandom()"
   ]
  },
  {
   "cell_type": "code",
   "execution_count": null,
   "id": "83d4c480",
   "metadata": {},
   "outputs": [],
   "source": []
  }
 ],
 "metadata": {
  "kernelspec": {
   "display_name": "Python 3",
   "language": "python",
   "name": "python3"
  },
  "language_info": {
   "codemirror_mode": {
    "name": "ipython",
    "version": 3
   },
   "file_extension": ".py",
   "mimetype": "text/x-python",
   "name": "python",
   "nbconvert_exporter": "python",
   "pygments_lexer": "ipython3",
   "version": "3.8.8"
  }
 },
 "nbformat": 4,
 "nbformat_minor": 5
}
